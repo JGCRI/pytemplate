{
 "cells": [
  {
   "cell_type": "code",
   "execution_count": 1,
   "id": "1a97f366-43db-4fea-b8dd-00367bf84c6d",
   "metadata": {},
   "outputs": [],
   "source": [
    "import basd\n"
   ]
  },
  {
   "cell_type": "code",
   "execution_count": 2,
   "id": "2244cdad-9cf6-4c8a-bcdc-1feac9be5af6",
   "metadata": {},
   "outputs": [
    {
     "data": {
      "text/plain": [
       "True"
      ]
     },
     "execution_count": 2,
     "metadata": {},
     "output_type": "execute_result"
    }
   ],
   "source": [
    "basd.fake()"
   ]
  },
  {
   "cell_type": "code",
   "execution_count": 3,
   "id": "2004bf17-5ca3-47d0-885b-1cb311817166",
   "metadata": {},
   "outputs": [
    {
     "data": {
      "text/plain": [
       "'0.0.0'"
      ]
     },
     "execution_count": 3,
     "metadata": {},
     "output_type": "execute_result"
    }
   ],
   "source": [
    "basd.__version__"
   ]
  },
  {
   "cell_type": "code",
   "execution_count": null,
   "id": "0357bbb1-1519-42b7-81a6-c93d9af59011",
   "metadata": {},
   "outputs": [],
   "source": []
  }
 ],
 "metadata": {
  "kernelspec": {
   "display_name": "py3.9.4_basd",
   "language": "python",
   "name": "py3.9.4_basd"
  },
  "language_info": {
   "codemirror_mode": {
    "name": "ipython",
    "version": 3
   },
   "file_extension": ".py",
   "mimetype": "text/x-python",
   "name": "python",
   "nbconvert_exporter": "python",
   "pygments_lexer": "ipython3",
   "version": "3.9.4"
  }
 },
 "nbformat": 4,
 "nbformat_minor": 5
}
